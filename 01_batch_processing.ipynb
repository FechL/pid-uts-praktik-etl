{
 "cells": [
  {
   "cell_type": "markdown",
   "id": "a617d756",
   "metadata": {},
   "source": [
    "Kelompok 6:\n",
    "- Fawwas Aliy 235150300111009\n",
    "- Briliiant Akhmad Assiddiqqy 235150301111045\n",
    "- Andan Riski Mustari 235150301111002"
   ]
  },
  {
   "cell_type": "markdown",
   "id": "cf692db2",
   "metadata": {},
   "source": [
    "## Batch Processing"
   ]
  },
  {
   "cell_type": "markdown",
   "id": "d04559e7",
   "metadata": {},
   "source": [
    "Membuat batch pipeline menggunakan Python dan Pandas untuk memproses data sensor_data_raw.csv. Tugasnya meliputi pembersihan data (mengisi suhu kosong dengan median), menghitung rata-rata suhu serta kelembapan maksimum per truk, dan menyimpan hasil ke file CSV. Soal ini menilai kemampuan dasar pemrosesan data terprogram."
   ]
  },
  {
   "cell_type": "markdown",
   "id": "df0aa1b6",
   "metadata": {},
   "source": [
    "### Preparation"
   ]
  },
  {
   "cell_type": "markdown",
   "id": "0f0727d6",
   "metadata": {},
   "source": [
    "Impor library pandas untuk menampung dataset."
   ]
  },
  {
   "cell_type": "code",
   "execution_count": 29,
   "id": "cdf3bbc8",
   "metadata": {},
   "outputs": [],
   "source": [
    "import pandas as pd"
   ]
  },
  {
   "cell_type": "markdown",
   "id": "53e2091b",
   "metadata": {},
   "source": [
    "### Function"
   ]
  },
  {
   "cell_type": "markdown",
   "id": "45e4bf41",
   "metadata": {},
   "source": [
    "Terdapat 2 function untuk cleaning data (missing values) dan menghitung agregasi."
   ]
  },
  {
   "cell_type": "code",
   "execution_count": 30,
   "id": "53b5bdd9",
   "metadata": {},
   "outputs": [],
   "source": [
    "def clean_sensor_data(df):\n",
    "    df.fillna(df.median(numeric_only=True), inplace=True)\n",
    "    return df\n",
    "\n",
    "def calculate_aggregates(df):\n",
    "    agregasi_df = df.groupby('truck_id').agg(\n",
    "        avg_temp=('temperature_kelvin', 'mean'),\n",
    "        max_humidity=('humidity_percent', 'max'),\n",
    "    ).round(2).reset_index()\n",
    "    return agregasi_df"
   ]
  },
  {
   "cell_type": "markdown",
   "id": "0aadeadf",
   "metadata": {},
   "source": [
    "### Main"
   ]
  },
  {
   "cell_type": "markdown",
   "id": "62730a62",
   "metadata": {},
   "source": [
    "Load dataset dari datasets/sensor_data_raw.csv dan menamiplkan informasi dari data tersebut."
   ]
  },
  {
   "cell_type": "code",
   "execution_count": 31,
   "id": "f7d06910",
   "metadata": {},
   "outputs": [
    {
     "name": "stdout",
     "output_type": "stream",
     "text": [
      "<class 'pandas.core.frame.DataFrame'>\n",
      "RangeIndex: 45 entries, 0 to 44\n",
      "Data columns (total 8 columns):\n",
      " #   Column              Non-Null Count  Dtype  \n",
      "---  ------              --------------  -----  \n",
      " 0   truck_id            45 non-null     object \n",
      " 1   sensor_id           45 non-null     object \n",
      " 2   timestamp           45 non-null     object \n",
      " 3   temperature_kelvin  44 non-null     float64\n",
      " 4   humidity_percent    44 non-null     float64\n",
      " 5   gps_lat             45 non-null     float64\n",
      " 6   gps_lng             45 non-null     float64\n",
      " 7   engine_status       45 non-null     object \n",
      "dtypes: float64(4), object(4)\n",
      "memory usage: 2.9+ KB\n"
     ]
    }
   ],
   "source": [
    "df = pd.read_csv('datasets/sensor_data_raw.csv')\n",
    "df.info()"
   ]
  },
  {
   "cell_type": "markdown",
   "id": "03367d51",
   "metadata": {},
   "source": [
    "Terlihat bahwa pada kolom temperature_kelvin dan humidity_percent terdapat data yang tidak komplit atau missing.\n",
    "Data missing tersebut diimputasi menggunakan median."
   ]
  },
  {
   "cell_type": "code",
   "execution_count": 32,
   "id": "52bc12a4",
   "metadata": {},
   "outputs": [
    {
     "name": "stdout",
     "output_type": "stream",
     "text": [
      "<class 'pandas.core.frame.DataFrame'>\n",
      "RangeIndex: 45 entries, 0 to 44\n",
      "Data columns (total 8 columns):\n",
      " #   Column              Non-Null Count  Dtype  \n",
      "---  ------              --------------  -----  \n",
      " 0   truck_id            45 non-null     object \n",
      " 1   sensor_id           45 non-null     object \n",
      " 2   timestamp           45 non-null     object \n",
      " 3   temperature_kelvin  45 non-null     float64\n",
      " 4   humidity_percent    45 non-null     float64\n",
      " 5   gps_lat             45 non-null     float64\n",
      " 6   gps_lng             45 non-null     float64\n",
      " 7   engine_status       45 non-null     object \n",
      "dtypes: float64(4), object(4)\n",
      "memory usage: 2.9+ KB\n"
     ]
    }
   ],
   "source": [
    "cleaned_df = clean_sensor_data(df)\n",
    "df.info()"
   ]
  },
  {
   "cell_type": "markdown",
   "id": "9ed8f092",
   "metadata": {},
   "source": [
    "Setelah cleaning data, dataset sudah tidak ada missing value.\n",
    "Kemudian kita mengagregasi dataset tersebut per truck_id dan menghitung average temp dan max kelembapan setiap truck_id."
   ]
  },
  {
   "cell_type": "code",
   "execution_count": 33,
   "id": "2225bac4",
   "metadata": {},
   "outputs": [
    {
     "name": "stdout",
     "output_type": "stream",
     "text": [
      "  truck_id  avg_temp  max_humidity\n",
      "0   TRK001    301.57          69.8\n",
      "1   TRK002    298.52          70.2\n",
      "2   TRK003    304.65          77.8\n",
      "3   TRK004    298.93          67.5\n",
      "4   TRK005    301.42          73.1\n",
      "5   TRK006    298.12          64.9\n",
      "6   TRK007    300.52          68.5\n",
      "7   TRK008    297.02          63.4\n",
      "8   TRK009    301.72          71.8\n",
      "9   TRK010    299.22          66.9\n"
     ]
    }
   ],
   "source": [
    "result_df = calculate_aggregates(cleaned_df)\n",
    "print(result_df)"
   ]
  },
  {
   "cell_type": "markdown",
   "id": "d4b4f3a6",
   "metadata": {},
   "source": [
    "Simpan hasil agregasi tersebut ke datasets/aggregated_results.csv"
   ]
  },
  {
   "cell_type": "code",
   "execution_count": 28,
   "id": "aa2a5c23",
   "metadata": {},
   "outputs": [],
   "source": [
    "result_df.to_csv('datasets/aggregated_results.csv', index=False)"
   ]
  }
 ],
 "metadata": {
  "kernelspec": {
   "display_name": "Python 3",
   "language": "python",
   "name": "python3"
  },
  "language_info": {
   "codemirror_mode": {
    "name": "ipython",
    "version": 3
   },
   "file_extension": ".py",
   "mimetype": "text/x-python",
   "name": "python",
   "nbconvert_exporter": "python",
   "pygments_lexer": "ipython3",
   "version": "3.10.12"
  }
 },
 "nbformat": 4,
 "nbformat_minor": 5
}
