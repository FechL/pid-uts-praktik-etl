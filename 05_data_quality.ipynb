{
 "cells": [
  {
   "cell_type": "markdown",
   "id": "1ec5194b",
   "metadata": {},
   "source": [
    "Kelompok 6:\n",
    "- Fawwas Aliy 235150300111009\n",
    "- Briliiant Akhmad Assiddiqqy 235150301111045\n",
    "- Andan Riski Mustari 235150301111002"
   ]
  },
  {
   "cell_type": "markdown",
   "id": "694aad7d",
   "metadata": {},
   "source": [
    "## Data Quality Validation"
   ]
  },
  {
   "cell_type": "markdown",
   "id": "857349c0",
   "metadata": {},
   "source": [
    "Mengembangkan class DataQualityChecker untuk mendeteksi missing values, nilai di luar rentang wajar, dan data duplikat pada dataset sensor. Hasil pemeriksaan ditampilkan dalam laporan ringkas. Soal ini menguji kemampuan validasi dan penjaminan kualitas data sebelum analisis."
   ]
  },
  {
   "cell_type": "markdown",
   "id": "70fd78fa",
   "metadata": {},
   "source": [
    "### Preparation"
   ]
  },
  {
   "cell_type": "markdown",
   "id": "4517258b",
   "metadata": {},
   "source": [
    "Impor library pandas untuk pengeloalaan data."
   ]
  },
  {
   "cell_type": "code",
   "execution_count": 2,
   "id": "513363f2",
   "metadata": {},
   "outputs": [],
   "source": [
    "import pandas as pd"
   ]
  },
  {
   "cell_type": "markdown",
   "id": "ee27fe75",
   "metadata": {},
   "source": [
    "Sampel data dengan beberapa maasalah kualitas dan data yang bersih."
   ]
  },
  {
   "cell_type": "code",
   "execution_count": 14,
   "id": "df7a8e53",
   "metadata": {},
   "outputs": [],
   "source": [
    "test_data_kotor = pd.DataFrame([\n",
    "    {\"sensor_id\": \"SENS001\", \"truck_id\": \"TRK001\", \"temp\": -999, \"humidity\": 120},  # Invalid values\n",
    "    {\"sensor_id\": \"SENS002\", \"truck_id\": \"\", \"temp\": 25.5, \"humidity\": None},       # Missing values  \n",
    "    {\"sensor_id\": \"SENS001\", \"truck_id\": \"TRK001\", \"temp\": 25.5, \"humidity\": 65},   # Duplicate\n",
    "    {\"sensor_id\": \"SENS001\", \"truck_id\": \"TRK001\", \"temp\": 25.5, \"humidity\": 65}    # Duplicate\n",
    "])\n",
    "\n",
    "test_data_bersih = pd.DataFrame([\n",
    "    {\"sensor_id\": \"SENS001\", \"truck_id\": \"TRK001\", \"temp\": 25.5, \"humidity\": 65},\n",
    "    {\"sensor_id\": \"SENS002\", \"truck_id\": \"TRK002\", \"temp\": 27.0, \"humidity\": 60},\n",
    "    {\"sensor_id\": \"SENS003\", \"truck_id\": \"TRK003\", \"temp\": 22.3, \"humidity\": 70},\n",
    "    {\"sensor_id\": \"SENS004\", \"truck_id\": \"TRK004\", \"temp\": 30.1, \"humidity\": 55}\n",
    "])"
   ]
  },
  {
   "cell_type": "markdown",
   "id": "f51bc912",
   "metadata": {},
   "source": [
    "### Class Function"
   ]
  },
  {
   "cell_type": "markdown",
   "id": "05406613",
   "metadata": {},
   "source": [
    "Berisikan beberapa function atau method untuk mengecek kualitas data."
   ]
  },
  {
   "cell_type": "code",
   "execution_count": 8,
   "id": "49d587c9",
   "metadata": {},
   "outputs": [],
   "source": [
    "class DataQualityChecker:\n",
    "    def __init__(self):\n",
    "        self.violations = []\n",
    "\n",
    "    def check_missing_values(self, df, required_columns):\n",
    "        # Mengecek nilai yang hilang di kolom yang diperlukan\n",
    "        for col in required_columns:\n",
    "            missing = df[col].isnull().sum() + (df[col] == \"\").sum()\n",
    "            if missing > 0:\n",
    "                self.violations.append(f\"Data hilang ditemukan di kolom '{col}': {missing} baris\")\n",
    "\n",
    "    def check_value_ranges(self, df):\n",
    "        # Mengecek nilai yang tidak valid di kolom temp dan humidity\n",
    "        invalid_temp = df[(df[\"temp\"] < -40) | (df[\"temp\"] > 80)]\n",
    "        if not invalid_temp.empty:\n",
    "            self.violations.append(f\"Nilai temperature tidak valid: {len(invalid_temp)} baris\")\n",
    "\n",
    "        invalid_hum = df[(df[\"humidity\"] < 0) | (df[\"humidity\"] > 100) | (df[\"humidity\"].isnull())]\n",
    "        if not invalid_hum.empty:\n",
    "            self.violations.append(f\"Nilai humidity tidak valid: {len(invalid_hum)} baris\")\n",
    "\n",
    "    def check_duplicates(self, df, key_columns):\n",
    "        # Mengecek duplikat berdasarkan argumen kolom\n",
    "        duplicates = df[df.duplicated(subset=key_columns, keep=False)]\n",
    "        if not duplicates.empty:\n",
    "            self.violations.append(f\"Duplikasi data ditemukan: {len(duplicates)} baris\")\n",
    "\n",
    "    def generate_report(self):\n",
    "        # Menghasilkan laporan kualitas data\n",
    "        if not self.violations:\n",
    "            return \"Tidak ada kesalahan kualitas data ditemukan. Data sudah bersih.\"\n",
    "        report = \"Terdapat kesalah data.\\nData kualitas report:\\n\"\n",
    "        for v in self.violations:\n",
    "            report += f\"- {v}\\n\"\n",
    "        return report"
   ]
  },
  {
   "cell_type": "markdown",
   "id": "637084f2",
   "metadata": {},
   "source": [
    "## Main"
   ]
  },
  {
   "cell_type": "markdown",
   "id": "c3c66e30",
   "metadata": {},
   "source": [
    "Testing data kotor."
   ]
  },
  {
   "cell_type": "code",
   "execution_count": null,
   "id": "15525868",
   "metadata": {},
   "outputs": [
    {
     "name": "stdout",
     "output_type": "stream",
     "text": [
      "Terdapat kesalah data.\n",
      "Data kualitas report:\n",
      "- Data hilang ditemukan di kolom 'truck_id': 1 baris\n",
      "- Nilai temperature tidak valid: 1 baris\n",
      "- Nilai humidity tidak valid: 2 baris\n",
      "- Duplikasi data ditemukan: 3 baris\n",
      "\n"
     ]
    }
   ],
   "source": [
    "checker1 = DataQualityChecker()\n",
    "checker1.check_missing_values(test_data_kotor, ['sensor_id', 'truck_id'])\n",
    "checker1.check_value_ranges(test_data_kotor)\n",
    "checker1.check_duplicates(test_data_kotor, ['sensor_id', 'truck_id'])\n",
    "report = checker1.generate_report()\n",
    "print(report)"
   ]
  },
  {
   "cell_type": "markdown",
   "id": "3788fd71",
   "metadata": {},
   "source": [
    "Testing data bersih."
   ]
  },
  {
   "cell_type": "code",
   "execution_count": 17,
   "id": "1bec1968",
   "metadata": {},
   "outputs": [
    {
     "name": "stdout",
     "output_type": "stream",
     "text": [
      "Tidak ada kesalahan kualitas data ditemukan. Data sudah bersih.\n"
     ]
    }
   ],
   "source": [
    "checker2 = DataQualityChecker()\n",
    "checker2.check_missing_values(test_data_bersih, ['sensor_id', 'truck_id'])\n",
    "checker2.check_value_ranges(test_data_bersih)\n",
    "checker2.check_duplicates(test_data_bersih, ['sensor_id', 'truck_id'])\n",
    "report = checker2.generate_report()\n",
    "print(report)"
   ]
  }
 ],
 "metadata": {
  "kernelspec": {
   "display_name": "Python 3",
   "language": "python",
   "name": "python3"
  },
  "language_info": {
   "codemirror_mode": {
    "name": "ipython",
    "version": 3
   },
   "file_extension": ".py",
   "mimetype": "text/x-python",
   "name": "python",
   "nbconvert_exporter": "python",
   "pygments_lexer": "ipython3",
   "version": "3.10.12"
  }
 },
 "nbformat": 4,
 "nbformat_minor": 5
}
